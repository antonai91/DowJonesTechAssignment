{
 "cells": [
  {
   "cell_type": "markdown",
   "id": "a6a9efa2",
   "metadata": {},
   "source": [
    "# Dow Jones Technical Assignment\n",
    "\n",
    "#### Dataset Selection\n",
    "For this assignment, I am using the [Yahoo Finance News Dataset (2023)](https://github.com/FelixDrinkall/financial-news-dataset/blob/main/data/2023_processed.json.xz), which contains real-world financial news articles published on finance.yahoo.com during the year 2023. The dataset is part of a broader collection covering the years 2017–2023 and available in the following [link](https://github.com/felixdrinkall/financial-news-dataset).\n",
    "#### Rationale\n",
    "I selected the 2023 dataset because it provides recent, high-quality financial news articles from multiple reputable media sources, closely resembling what would be available to a financial media company like Dow Jones. This ensures:\n",
    "- Realistic input for summarization and semantic search.\n",
    "- Diverse content, including company earnings, market movements, and macroeconomic developments.\n",
    "- Clean article metadata such as date when the article was published, original link, title and full text.\n",
    "#### Licensing\n",
    "The dataset is distributed under the [Creative Commons Attribution-NonCommercial-ShareAlike 4.0 International (CC BY-NC-SA 4.0) License](https://creativecommons.org/licenses/by-nc-sa/4.0/). This allows for academic use, sharing, and adaptation, while restricting commercial applications."
   ]
  },
  {
   "cell_type": "markdown",
   "id": "dec06eed",
   "metadata": {},
   "source": [
    "## Initial setup: Libraries, OpenAI key and model"
   ]
  },
  {
   "cell_type": "code",
   "execution_count": null,
   "id": "3332f898",
   "metadata": {},
   "outputs": [],
   "source": [
    "import os\n",
    "import json\n",
    "import pandas as pd\n",
    "import openai\n",
    "import plotly.express as px\n",
    "from dotenv import load_dotenv\n",
    "from langchain.chat_models import init_chat_model\n",
    "from langchain.prompts import PromptTemplate\n",
    "\n",
    "pd.options.display.max_columns=999\n",
    "pd.options.display.max_rows=999"
   ]
  },
  {
   "cell_type": "code",
   "execution_count": 2,
   "id": "4de03b98",
   "metadata": {},
   "outputs": [],
   "source": [
    "# Load the environment variables from .env file\n",
    "load_dotenv()\n",
    "openai.api_key = os.environ['OPENAI_API_KEY']\n",
    "\n",
    "# Cache file to avoid calling multiple time the same API with the same input\n",
    "cache_file = '../cache_summary.json'\n",
    "\n",
    "# Load cache from disk if it exists\n",
    "try:\n",
    "    with open(cache_file, 'r') as f:\n",
    "        cache = json.load(f)\n",
    "except FileNotFoundError:\n",
    "    cache = {}"
   ]
  },
  {
   "cell_type": "markdown",
   "id": "7962da3f",
   "metadata": {},
   "source": [
    "I am using gpt4.1 nano since it is the not too far from GPT4o performance but much cheaper (25x), [here](https://docsbot.ai/models/compare/gpt-4o/gpt-4-1-nano) a full comparison."
   ]
  },
  {
   "cell_type": "code",
   "execution_count": 3,
   "id": "372f84b5",
   "metadata": {},
   "outputs": [],
   "source": [
    "# Initializing OpenAI model\n",
    "llm = init_chat_model(\"gpt-4.1-nano-2025-04-14\", model_provider=\"openai\", temperature=0)"
   ]
  },
  {
   "cell_type": "markdown",
   "id": "2e489cfa",
   "metadata": {},
   "source": [
    "## Read and explore data"
   ]
  },
  {
   "cell_type": "code",
   "execution_count": 4,
   "id": "341bcd17",
   "metadata": {},
   "outputs": [
    {
     "name": "stdout",
     "output_type": "stream",
     "text": [
      "['en']\n",
      "['2023']\n"
     ]
    }
   ],
   "source": [
    "# Read the data\n",
    "df = pd.read_json(\"../data/2023_processed.json\")\n",
    "# Remove duplicated articles\n",
    "df = df.dropna(subset=[\"maintext\"])\n",
    "print(df.language.unique()) # Articles always in English\n",
    "print(df.date_publish.map(lambda x: x[:4]).unique()) # Articles always published in 2023"
   ]
  },
  {
   "cell_type": "code",
   "execution_count": 5,
   "id": "ebe5b895",
   "metadata": {},
   "outputs": [
    {
     "data": {
      "text/html": [
       "<div>\n",
       "<style scoped>\n",
       "    .dataframe tbody tr th:only-of-type {\n",
       "        vertical-align: middle;\n",
       "    }\n",
       "\n",
       "    .dataframe tbody tr th {\n",
       "        vertical-align: top;\n",
       "    }\n",
       "\n",
       "    .dataframe thead th {\n",
       "        text-align: right;\n",
       "    }\n",
       "</style>\n",
       "<table border=\"1\" class=\"dataframe\">\n",
       "  <thead>\n",
       "    <tr style=\"text-align: right;\">\n",
       "      <th></th>\n",
       "      <th>date_publish</th>\n",
       "      <th>description</th>\n",
       "      <th>maintext</th>\n",
       "      <th>title</th>\n",
       "      <th>url</th>\n",
       "      <th>related_companies</th>\n",
       "    </tr>\n",
       "  </thead>\n",
       "  <tbody>\n",
       "    <tr>\n",
       "      <th>0</th>\n",
       "      <td>2023-06-23 05:38:00</td>\n",
       "      <td>At Tyler Malek's ice cream parlors, one cook's...</td>\n",
       "      <td>LOS GATOS, Calif. (AP) — At Tyler Malek's ice ...</td>\n",
       "      <td>The US has tons of leftover food. Upcycling se...</td>\n",
       "      <td>https://finance.yahoo.com/news/us-tons-leftove...</td>\n",
       "      <td>[BSAC, FHN, PACW, BSMX, VLY, MBRG, SMMF, GNBC,...</td>\n",
       "    </tr>\n",
       "    <tr>\n",
       "      <th>1</th>\n",
       "      <td>2023-08-26 14:00:17</td>\n",
       "      <td>The worst result, after buying shares in a com...</td>\n",
       "      <td>The worst result, after buying shares in a com...</td>\n",
       "      <td>Baker Hughes (NASDAQ:BKR) shareholders have ea...</td>\n",
       "      <td>https://finance.yahoo.com/news/baker-hughes-na...</td>\n",
       "      <td>[CHU, INSG, S, TDS, DCM, TMUS, CHT, SPOK, VEON...</td>\n",
       "    </tr>\n",
       "    <tr>\n",
       "      <th>2</th>\n",
       "      <td>2023-12-06 16:57:28</td>\n",
       "      <td>(Bloomberg) -- An insolvency filing by Signa H...</td>\n",
       "      <td>(Bloomberg) -- An insolvency filing by Signa H...</td>\n",
       "      <td>Signa’s Insolvency Yields Long List of Credito...</td>\n",
       "      <td>https://finance.yahoo.com/news/signa-insolvenc...</td>\n",
       "      <td>[TXT]</td>\n",
       "    </tr>\n",
       "    <tr>\n",
       "      <th>3</th>\n",
       "      <td>2023-06-14 07:21:56</td>\n",
       "      <td>Swiss citizens vote this weekend on whether to...</td>\n",
       "      <td>By John Revill\\nZURICH (Reuters) - Swiss citiz...</td>\n",
       "      <td>Low-tax Switzerland votes on global minimum co...</td>\n",
       "      <td>https://finance.yahoo.com/news/low-tax-switzer...</td>\n",
       "      <td>[IGLD, RAMP, NSR, TWTR, ACXM, COR, PINS, META,...</td>\n",
       "    </tr>\n",
       "    <tr>\n",
       "      <th>4</th>\n",
       "      <td>2023-01-10 20:23:00</td>\n",
       "      <td>Nationally recognized branding agency HAVEN Cr...</td>\n",
       "      <td>WAXHAW, N.C., Jan. 10, 2023 /PRNewswire/ -- Na...</td>\n",
       "      <td>National Branding Agency HAVEN Creative Looks ...</td>\n",
       "      <td>https://finance.yahoo.com/news/national-brandi...</td>\n",
       "      <td>[FIS, FRXB, AAQC, EEX, AUXO, BBOX, GHY, CTLP, ...</td>\n",
       "    </tr>\n",
       "  </tbody>\n",
       "</table>\n",
       "</div>"
      ],
      "text/plain": [
       "          date_publish                                        description  \\\n",
       "0  2023-06-23 05:38:00  At Tyler Malek's ice cream parlors, one cook's...   \n",
       "1  2023-08-26 14:00:17  The worst result, after buying shares in a com...   \n",
       "2  2023-12-06 16:57:28  (Bloomberg) -- An insolvency filing by Signa H...   \n",
       "3  2023-06-14 07:21:56  Swiss citizens vote this weekend on whether to...   \n",
       "4  2023-01-10 20:23:00  Nationally recognized branding agency HAVEN Cr...   \n",
       "\n",
       "                                            maintext  \\\n",
       "0  LOS GATOS, Calif. (AP) — At Tyler Malek's ice ...   \n",
       "1  The worst result, after buying shares in a com...   \n",
       "2  (Bloomberg) -- An insolvency filing by Signa H...   \n",
       "3  By John Revill\\nZURICH (Reuters) - Swiss citiz...   \n",
       "4  WAXHAW, N.C., Jan. 10, 2023 /PRNewswire/ -- Na...   \n",
       "\n",
       "                                               title  \\\n",
       "0  The US has tons of leftover food. Upcycling se...   \n",
       "1  Baker Hughes (NASDAQ:BKR) shareholders have ea...   \n",
       "2  Signa’s Insolvency Yields Long List of Credito...   \n",
       "3  Low-tax Switzerland votes on global minimum co...   \n",
       "4  National Branding Agency HAVEN Creative Looks ...   \n",
       "\n",
       "                                                 url  \\\n",
       "0  https://finance.yahoo.com/news/us-tons-leftove...   \n",
       "1  https://finance.yahoo.com/news/baker-hughes-na...   \n",
       "2  https://finance.yahoo.com/news/signa-insolvenc...   \n",
       "3  https://finance.yahoo.com/news/low-tax-switzer...   \n",
       "4  https://finance.yahoo.com/news/national-brandi...   \n",
       "\n",
       "                                   related_companies  \n",
       "0  [BSAC, FHN, PACW, BSMX, VLY, MBRG, SMMF, GNBC,...  \n",
       "1  [CHU, INSG, S, TDS, DCM, TMUS, CHT, SPOK, VEON...  \n",
       "2                                              [TXT]  \n",
       "3  [IGLD, RAMP, NSR, TWTR, ACXM, COR, PINS, META,...  \n",
       "4  [FIS, FRXB, AAQC, EEX, AUXO, BBOX, GHY, CTLP, ...  "
      ]
     },
     "execution_count": 5,
     "metadata": {},
     "output_type": "execute_result"
    }
   ],
   "source": [
    "# Keep only relevant columns\n",
    "cols_to_keep = [\"date_publish\", \"description\", \"maintext\", \"title\", \"url\", \"related_companies\"]\n",
    "df = df[cols_to_keep]\n",
    "df.head()"
   ]
  },
  {
   "cell_type": "code",
   "execution_count": 6,
   "id": "d7f9ddbb",
   "metadata": {},
   "outputs": [
    {
     "data": {
      "text/plain": [
       "['(Reuters) -Datadog on Tuesday topped estimates for third-quarter results and raised its forecast for annual adjusted profit and revenue, driven by demand from customers seeking better security solutions due to increasing cybersecurity threats.',\n",
       " 'Shares of the software solutions provider soared 29.9% and were on track for the biggest one-day percentage gain since their listing.',\n",
       " 'With the rising number of security breaches hitting major companies like MGM Resorts and Clorox, businesses and governments are turning to software and cybersecurity solutions providers like Datadog.',\n",
       " 'The Delaware, New-York-based company said it expects annual adjusted profit between $1.52 and $1.54 per share, up from its prior outlook of $1.30 and $1.34. Analysts were expecting $1.33 per share, according to LSEG data.',\n",
       " 'It also raised its full-year revenue forecast to the range of $2.10 billion to $2.11 billion, from its prior outlook of $2.05 billion to $2.06 billion.',\n",
       " 'Analysts expect Datadog to benefit from opportunities around cyber security and artificial intelligence with higher demand for development operations software.',\n",
       " \"The company's revenue for the third quarter stood at $548 million, beating estimates of $524.1 million.\",\n",
       " 'Quarterly adjusted profit of 45 cents per share also topped expectations.',\n",
       " \"Earlier in October, internet companies Google, Amazon and Cloudflare had flagged the internet's largest-known denial of service attack that could easily cause widespread disruption. The firms had urged businesses to update their web servers to ensure that they do not remain vulnerable.\",\n",
       " \"Datadog's total number of new and existing customers rose 20% to 3,130, with an annual recurring revenue of $100,000 or more as of Sept. 30.\",\n",
       " '(Reporting by Yamini Kalia in Bengaluru; Editing by Devika Syamnath and Shweta Agarwal)']"
      ]
     },
     "execution_count": 6,
     "metadata": {},
     "output_type": "execute_result"
    }
   ],
   "source": [
    "# See sample of an article\n",
    "df[\"maintext\"].sample(1).values[0].split(\"\\n\")"
   ]
  },
  {
   "cell_type": "markdown",
   "id": "ce9c467a",
   "metadata": {},
   "source": [
    "## Generation of a summary\n",
    "Financial news articles are often lengthy and dense with information. When dealing with large volumes of content, it's critical to quickly assess which articles are worth a deeper read. Summaries serve this exact purpose: they allow readers to grasp the core message of an article in seconds.\n",
    "\n",
    "To address this, we generate concise, high-quality summaries using Generative AI. Specifically, we leverage OpenAI’s gpt-4.1-nano model (initialized earlier) to produce abstractive summaries that capture the main events and insights from each article.\n",
    "\n",
    "This not only improves readability but also lays the foundation for downstream tasks like semantic search and topic clustering."
   ]
  },
  {
   "cell_type": "code",
   "execution_count": null,
   "id": "094c9ab6",
   "metadata": {},
   "outputs": [
    {
     "data": {
      "application/vnd.plotly.v1+json": {
       "config": {
        "plotlyServerURL": "https://plot.ly"
       },
       "data": [
        {
         "bingroup": "x",
         "hovertemplate": "x=%{x}<br>count=%{y}<extra></extra>",
         "legendgroup": "",
         "marker": {
          "color": "#636efa",
          "pattern": {
           "shape": ""
          }
         },
         "name": "",
         "nbinsx": 100,
         "orientation": "v",
         "showlegend": false,
         "type": "histogram",
         "x": {
          "bdata": "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",
          "dtype": "i2"
         },
         "xaxis": "x",
         "yaxis": "y"
        }
       ],
       "layout": {
        "barmode": "relative",
        "legend": {
         "tracegroupgap": 0
        },
        "margin": {
         "t": 60
        },
        "template": {
         "data": {
          "bar": [
           {
            "error_x": {
             "color": "#2a3f5f"
            },
            "error_y": {
             "color": "#2a3f5f"
            },
            "marker": {
             "line": {
              "color": "#E5ECF6",
              "width": 0.5
             },
             "pattern": {
              "fillmode": "overlay",
              "size": 10,
              "solidity": 0.2
             }
            },
            "type": "bar"
           }
          ],
          "barpolar": [
           {
            "marker": {
             "line": {
              "color": "#E5ECF6",
              "width": 0.5
             },
             "pattern": {
              "fillmode": "overlay",
              "size": 10,
              "solidity": 0.2
             }
            },
            "type": "barpolar"
           }
          ],
          "carpet": [
           {
            "aaxis": {
             "endlinecolor": "#2a3f5f",
             "gridcolor": "white",
             "linecolor": "white",
             "minorgridcolor": "white",
             "startlinecolor": "#2a3f5f"
            },
            "baxis": {
             "endlinecolor": "#2a3f5f",
             "gridcolor": "white",
             "linecolor": "white",
             "minorgridcolor": "white",
             "startlinecolor": "#2a3f5f"
            },
            "type": "carpet"
           }
          ],
          "choropleth": [
           {
            "colorbar": {
             "outlinewidth": 0,
             "ticks": ""
            },
            "type": "choropleth"
           }
          ],
          "contour": [
           {
            "colorbar": {
             "outlinewidth": 0,
             "ticks": ""
            },
            "colorscale": [
             [
              0,
              "#0d0887"
             ],
             [
              0.1111111111111111,
              "#46039f"
             ],
             [
              0.2222222222222222,
              "#7201a8"
             ],
             [
              0.3333333333333333,
              "#9c179e"
             ],
             [
              0.4444444444444444,
              "#bd3786"
             ],
             [
              0.5555555555555556,
              "#d8576b"
             ],
             [
              0.6666666666666666,
              "#ed7953"
             ],
             [
              0.7777777777777778,
              "#fb9f3a"
             ],
             [
              0.8888888888888888,
              "#fdca26"
             ],
             [
              1,
              "#f0f921"
             ]
            ],
            "type": "contour"
           }
          ],
          "contourcarpet": [
           {
            "colorbar": {
             "outlinewidth": 0,
             "ticks": ""
            },
            "type": "contourcarpet"
           }
          ],
          "heatmap": [
           {
            "colorbar": {
             "outlinewidth": 0,
             "ticks": ""
            },
            "colorscale": [
             [
              0,
              "#0d0887"
             ],
             [
              0.1111111111111111,
              "#46039f"
             ],
             [
              0.2222222222222222,
              "#7201a8"
             ],
             [
              0.3333333333333333,
              "#9c179e"
             ],
             [
              0.4444444444444444,
              "#bd3786"
             ],
             [
              0.5555555555555556,
              "#d8576b"
             ],
             [
              0.6666666666666666,
              "#ed7953"
             ],
             [
              0.7777777777777778,
              "#fb9f3a"
             ],
             [
              0.8888888888888888,
              "#fdca26"
             ],
             [
              1,
              "#f0f921"
             ]
            ],
            "type": "heatmap"
           }
          ],
          "histogram": [
           {
            "marker": {
             "pattern": {
              "fillmode": "overlay",
              "size": 10,
              "solidity": 0.2
             }
            },
            "type": "histogram"
           }
          ],
          "histogram2d": [
           {
            "colorbar": {
             "outlinewidth": 0,
             "ticks": ""
            },
            "colorscale": [
             [
              0,
              "#0d0887"
             ],
             [
              0.1111111111111111,
              "#46039f"
             ],
             [
              0.2222222222222222,
              "#7201a8"
             ],
             [
              0.3333333333333333,
              "#9c179e"
             ],
             [
              0.4444444444444444,
              "#bd3786"
             ],
             [
              0.5555555555555556,
              "#d8576b"
             ],
             [
              0.6666666666666666,
              "#ed7953"
             ],
             [
              0.7777777777777778,
              "#fb9f3a"
             ],
             [
              0.8888888888888888,
              "#fdca26"
             ],
             [
              1,
              "#f0f921"
             ]
            ],
            "type": "histogram2d"
           }
          ],
          "histogram2dcontour": [
           {
            "colorbar": {
             "outlinewidth": 0,
             "ticks": ""
            },
            "colorscale": [
             [
              0,
              "#0d0887"
             ],
             [
              0.1111111111111111,
              "#46039f"
             ],
             [
              0.2222222222222222,
              "#7201a8"
             ],
             [
              0.3333333333333333,
              "#9c179e"
             ],
             [
              0.4444444444444444,
              "#bd3786"
             ],
             [
              0.5555555555555556,
              "#d8576b"
             ],
             [
              0.6666666666666666,
              "#ed7953"
             ],
             [
              0.7777777777777778,
              "#fb9f3a"
             ],
             [
              0.8888888888888888,
              "#fdca26"
             ],
             [
              1,
              "#f0f921"
             ]
            ],
            "type": "histogram2dcontour"
           }
          ],
          "mesh3d": [
           {
            "colorbar": {
             "outlinewidth": 0,
             "ticks": ""
            },
            "type": "mesh3d"
           }
          ],
          "parcoords": [
           {
            "line": {
             "colorbar": {
              "outlinewidth": 0,
              "ticks": ""
             }
            },
            "type": "parcoords"
           }
          ],
          "pie": [
           {
            "automargin": true,
            "type": "pie"
           }
          ],
          "scatter": [
           {
            "fillpattern": {
             "fillmode": "overlay",
             "size": 10,
             "solidity": 0.2
            },
            "type": "scatter"
           }
          ],
          "scatter3d": [
           {
            "line": {
             "colorbar": {
              "outlinewidth": 0,
              "ticks": ""
             }
            },
            "marker": {
             "colorbar": {
              "outlinewidth": 0,
              "ticks": ""
             }
            },
            "type": "scatter3d"
           }
          ],
          "scattercarpet": [
           {
            "marker": {
             "colorbar": {
              "outlinewidth": 0,
              "ticks": ""
             }
            },
            "type": "scattercarpet"
           }
          ],
          "scattergeo": [
           {
            "marker": {
             "colorbar": {
              "outlinewidth": 0,
              "ticks": ""
             }
            },
            "type": "scattergeo"
           }
          ],
          "scattergl": [
           {
            "marker": {
             "colorbar": {
              "outlinewidth": 0,
              "ticks": ""
             }
            },
            "type": "scattergl"
           }
          ],
          "scattermap": [
           {
            "marker": {
             "colorbar": {
              "outlinewidth": 0,
              "ticks": ""
             }
            },
            "type": "scattermap"
           }
          ],
          "scattermapbox": [
           {
            "marker": {
             "colorbar": {
              "outlinewidth": 0,
              "ticks": ""
             }
            },
            "type": "scattermapbox"
           }
          ],
          "scatterpolar": [
           {
            "marker": {
             "colorbar": {
              "outlinewidth": 0,
              "ticks": ""
             }
            },
            "type": "scatterpolar"
           }
          ],
          "scatterpolargl": [
           {
            "marker": {
             "colorbar": {
              "outlinewidth": 0,
              "ticks": ""
             }
            },
            "type": "scatterpolargl"
           }
          ],
          "scatterternary": [
           {
            "marker": {
             "colorbar": {
              "outlinewidth": 0,
              "ticks": ""
             }
            },
            "type": "scatterternary"
           }
          ],
          "surface": [
           {
            "colorbar": {
             "outlinewidth": 0,
             "ticks": ""
            },
            "colorscale": [
             [
              0,
              "#0d0887"
             ],
             [
              0.1111111111111111,
              "#46039f"
             ],
             [
              0.2222222222222222,
              "#7201a8"
             ],
             [
              0.3333333333333333,
              "#9c179e"
             ],
             [
              0.4444444444444444,
              "#bd3786"
             ],
             [
              0.5555555555555556,
              "#d8576b"
             ],
             [
              0.6666666666666666,
              "#ed7953"
             ],
             [
              0.7777777777777778,
              "#fb9f3a"
             ],
             [
              0.8888888888888888,
              "#fdca26"
             ],
             [
              1,
              "#f0f921"
             ]
            ],
            "type": "surface"
           }
          ],
          "table": [
           {
            "cells": {
             "fill": {
              "color": "#EBF0F8"
             },
             "line": {
              "color": "white"
             }
            },
            "header": {
             "fill": {
              "color": "#C8D4E3"
             },
             "line": {
              "color": "white"
             }
            },
            "type": "table"
           }
          ]
         },
         "layout": {
          "annotationdefaults": {
           "arrowcolor": "#2a3f5f",
           "arrowhead": 0,
           "arrowwidth": 1
          },
          "autotypenumbers": "strict",
          "coloraxis": {
           "colorbar": {
            "outlinewidth": 0,
            "ticks": ""
           }
          },
          "colorscale": {
           "diverging": [
            [
             0,
             "#8e0152"
            ],
            [
             0.1,
             "#c51b7d"
            ],
            [
             0.2,
             "#de77ae"
            ],
            [
             0.3,
             "#f1b6da"
            ],
            [
             0.4,
             "#fde0ef"
            ],
            [
             0.5,
             "#f7f7f7"
            ],
            [
             0.6,
             "#e6f5d0"
            ],
            [
             0.7,
             "#b8e186"
            ],
            [
             0.8,
             "#7fbc41"
            ],
            [
             0.9,
             "#4d9221"
            ],
            [
             1,
             "#276419"
            ]
           ],
           "sequential": [
            [
             0,
             "#0d0887"
            ],
            [
             0.1111111111111111,
             "#46039f"
            ],
            [
             0.2222222222222222,
             "#7201a8"
            ],
            [
             0.3333333333333333,
             "#9c179e"
            ],
            [
             0.4444444444444444,
             "#bd3786"
            ],
            [
             0.5555555555555556,
             "#d8576b"
            ],
            [
             0.6666666666666666,
             "#ed7953"
            ],
            [
             0.7777777777777778,
             "#fb9f3a"
            ],
            [
             0.8888888888888888,
             "#fdca26"
            ],
            [
             1,
             "#f0f921"
            ]
           ],
           "sequentialminus": [
            [
             0,
             "#0d0887"
            ],
            [
             0.1111111111111111,
             "#46039f"
            ],
            [
             0.2222222222222222,
             "#7201a8"
            ],
            [
             0.3333333333333333,
             "#9c179e"
            ],
            [
             0.4444444444444444,
             "#bd3786"
            ],
            [
             0.5555555555555556,
             "#d8576b"
            ],
            [
             0.6666666666666666,
             "#ed7953"
            ],
            [
             0.7777777777777778,
             "#fb9f3a"
            ],
            [
             0.8888888888888888,
             "#fdca26"
            ],
            [
             1,
             "#f0f921"
            ]
           ]
          },
          "colorway": [
           "#636efa",
           "#EF553B",
           "#00cc96",
           "#ab63fa",
           "#FFA15A",
           "#19d3f3",
           "#FF6692",
           "#B6E880",
           "#FF97FF",
           "#FECB52"
          ],
          "font": {
           "color": "#2a3f5f"
          },
          "geo": {
           "bgcolor": "white",
           "lakecolor": "white",
           "landcolor": "#E5ECF6",
           "showlakes": true,
           "showland": true,
           "subunitcolor": "white"
          },
          "hoverlabel": {
           "align": "left"
          },
          "hovermode": "closest",
          "mapbox": {
           "style": "light"
          },
          "paper_bgcolor": "white",
          "plot_bgcolor": "#E5ECF6",
          "polar": {
           "angularaxis": {
            "gridcolor": "white",
            "linecolor": "white",
            "ticks": ""
           },
           "bgcolor": "#E5ECF6",
           "radialaxis": {
            "gridcolor": "white",
            "linecolor": "white",
            "ticks": ""
           }
          },
          "scene": {
           "xaxis": {
            "backgroundcolor": "#E5ECF6",
            "gridcolor": "white",
            "gridwidth": 2,
            "linecolor": "white",
            "showbackground": true,
            "ticks": "",
            "zerolinecolor": "white"
           },
           "yaxis": {
            "backgroundcolor": "#E5ECF6",
            "gridcolor": "white",
            "gridwidth": 2,
            "linecolor": "white",
            "showbackground": true,
            "ticks": "",
            "zerolinecolor": "white"
           },
           "zaxis": {
            "backgroundcolor": "#E5ECF6",
            "gridcolor": "white",
            "gridwidth": 2,
            "linecolor": "white",
            "showbackground": true,
            "ticks": "",
            "zerolinecolor": "white"
           }
          },
          "shapedefaults": {
           "line": {
            "color": "#2a3f5f"
           }
          },
          "ternary": {
           "aaxis": {
            "gridcolor": "white",
            "linecolor": "white",
            "ticks": ""
           },
           "baxis": {
            "gridcolor": "white",
            "linecolor": "white",
            "ticks": ""
           },
           "bgcolor": "#E5ECF6",
           "caxis": {
            "gridcolor": "white",
            "linecolor": "white",
            "ticks": ""
           }
          },
          "title": {
           "x": 0.05
          },
          "xaxis": {
           "automargin": true,
           "gridcolor": "white",
           "linecolor": "white",
           "ticks": "",
           "title": {
            "standoff": 15
           },
           "zerolinecolor": "white",
           "zerolinewidth": 2
          },
          "yaxis": {
           "automargin": true,
           "gridcolor": "white",
           "linecolor": "white",
           "ticks": "",
           "title": {
            "standoff": 15
           },
           "zerolinecolor": "white",
           "zerolinewidth": 2
          }
         }
        },
        "xaxis": {
         "anchor": "y",
         "domain": [
          0,
          1
         ],
         "title": {
          "text": "x"
         }
        },
        "yaxis": {
         "anchor": "x",
         "domain": [
          0,
          1
         ],
         "title": {
          "text": "count"
         }
        }
       }
      }
     },
     "metadata": {},
     "output_type": "display_data"
    }
   ],
   "source": [
    "# Showing the histogram of how many worlds are in an article\n",
    "fig = px.histogram(x=df.maintext.map(lambda x: len(x.split())), nbins=100)\n",
    "fig.show()"
   ]
  },
  {
   "cell_type": "code",
   "execution_count": null,
   "id": "bccb4f18",
   "metadata": {},
   "outputs": [],
   "source": []
  }
 ],
 "metadata": {
  "kernelspec": {
   "display_name": ".venv",
   "language": "python",
   "name": "python3"
  },
  "language_info": {
   "codemirror_mode": {
    "name": "ipython",
    "version": 3
   },
   "file_extension": ".py",
   "mimetype": "text/x-python",
   "name": "python",
   "nbconvert_exporter": "python",
   "pygments_lexer": "ipython3",
   "version": "3.13.3"
  }
 },
 "nbformat": 4,
 "nbformat_minor": 5
}
