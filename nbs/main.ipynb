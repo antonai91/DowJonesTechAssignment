{
 "cells": [
  {
   "cell_type": "markdown",
   "id": "a6a9efa2",
   "metadata": {},
   "source": [
    "# Dow Jones Technical Assignment\n",
    "\n",
    "#### Dataset Selection\n",
    "For this assignment, I am using the [Yahoo Finance News Dataset (2023)](https://github.com/FelixDrinkall/financial-news-dataset/blob/main/data/2023_processed.json.xz), which contains real-world financial news articles published on finance.yahoo.com during the year 2023. The dataset is part of a broader collection covering the years 2017–2023 and available in the following [link](https://github.com/felixdrinkall/financial-news-dataset).\n",
    "#### Rationale\n",
    "I selected the 2023 dataset because it provides recent, high-quality financial news articles from multiple reputable media sources, closely resembling what would be available to a financial media company like Dow Jones. This ensures:\n",
    "- Realistic input for summarization and semantic search.\n",
    "- Diverse content, including company earnings, market movements, and macroeconomic developments.\n",
    "- Clean article metadata such as date when the article was published, original link, title and full text.\n",
    "#### Licensing\n",
    "The dataset is distributed under the [Creative Commons Attribution-NonCommercial-ShareAlike 4.0 International (CC BY-NC-SA 4.0) License](https://creativecommons.org/licenses/by-nc-sa/4.0/). This allows for academic use, sharing, and adaptation, while restricting commercial applications."
   ]
  },
  {
   "cell_type": "markdown",
   "id": "dec06eed",
   "metadata": {},
   "source": [
    "## Initial setup: Libraries, OpenAI key and model"
   ]
  },
  {
   "cell_type": "code",
   "execution_count": 1,
   "id": "3332f898",
   "metadata": {},
   "outputs": [],
   "source": [
    "import os\n",
    "import json\n",
    "import asyncio\n",
    "import pandas as pd\n",
    "import openai\n",
    "import plotly.express as px\n",
    "from dotenv import load_dotenv\n",
    "from langchain.chat_models import init_chat_model\n",
    "from langchain_openai import OpenAIEmbeddings\n",
    "from langchain.prompts import PromptTemplate\n",
    "\n",
    "pd.options.display.max_columns=999\n",
    "pd.options.display.max_rows=999"
   ]
  },
  {
   "cell_type": "code",
   "execution_count": 2,
   "id": "4de03b98",
   "metadata": {},
   "outputs": [],
   "source": [
    "# Load the environment variables from .env file\n",
    "load_dotenv()\n",
    "openai.api_key = os.environ['OPENAI_API_KEY']\n",
    "\n",
    "# Cache file to avoid calling multiple time the same API with the same input\n",
    "cache_file = '../cache_summary.json'\n",
    "\n",
    "# Load cache from disk if it exists\n",
    "try:\n",
    "    with open(cache_file, 'r') as f:\n",
    "        cache = json.load(f)\n",
    "except FileNotFoundError:\n",
    "    cache = {}"
   ]
  },
  {
   "cell_type": "markdown",
   "id": "7962da3f",
   "metadata": {},
   "source": [
    "I am using gpt4.1 nano since it is the not too far from GPT4o performance but much cheaper (25x), [here](https://docsbot.ai/models/compare/gpt-4o/gpt-4-1-nano) a full comparison."
   ]
  },
  {
   "cell_type": "code",
   "execution_count": null,
   "id": "372f84b5",
   "metadata": {},
   "outputs": [
    {
     "ename": "",
     "evalue": "",
     "output_type": "error",
     "traceback": [
      "\u001b[1;31mThe Kernel crashed while executing code in the current cell or a previous cell. \n",
      "\u001b[1;31mPlease review the code in the cell(s) to identify a possible cause of the failure. \n",
      "\u001b[1;31mClick <a href='https://aka.ms/vscodeJupyterKernelCrash'>here</a> for more info. \n",
      "\u001b[1;31mView Jupyter <a href='command:jupyter.viewOutput'>log</a> for further details."
     ]
    }
   ],
   "source": [
    "# Initializing OpenAI models for later\n",
    "llm = init_chat_model(\"gpt-4.1-nano-2025-04-14\", model_provider=\"openai\", temperature=0)\n",
    "embeddings = OpenAIEmbeddings(model=\"text-embedding-3-small\")"
   ]
  },
  {
   "cell_type": "markdown",
   "id": "2e489cfa",
   "metadata": {},
   "source": [
    "## Read and explore data"
   ]
  },
  {
   "cell_type": "code",
   "execution_count": null,
   "id": "341bcd17",
   "metadata": {},
   "outputs": [],
   "source": [
    "# Read the data\n",
    "df = pd.read_json(\"../data/2023_processed.json\")\n",
    "# Remove duplicated articles\n",
    "df = df.dropna(subset=[\"maintext\"])\n",
    "print(df.language.unique()) # Articles always in English\n",
    "print(df.date_publish.map(lambda x: x[:4]).unique()) # Articles always published in 2023"
   ]
  },
  {
   "cell_type": "code",
   "execution_count": null,
   "id": "ebe5b895",
   "metadata": {},
   "outputs": [
    {
     "data": {
      "text/html": [
       "<div>\n",
       "<style scoped>\n",
       "    .dataframe tbody tr th:only-of-type {\n",
       "        vertical-align: middle;\n",
       "    }\n",
       "\n",
       "    .dataframe tbody tr th {\n",
       "        vertical-align: top;\n",
       "    }\n",
       "\n",
       "    .dataframe thead th {\n",
       "        text-align: right;\n",
       "    }\n",
       "</style>\n",
       "<table border=\"1\" class=\"dataframe\">\n",
       "  <thead>\n",
       "    <tr style=\"text-align: right;\">\n",
       "      <th></th>\n",
       "      <th>date_publish</th>\n",
       "      <th>description</th>\n",
       "      <th>maintext</th>\n",
       "      <th>title</th>\n",
       "      <th>url</th>\n",
       "      <th>related_companies</th>\n",
       "    </tr>\n",
       "  </thead>\n",
       "  <tbody>\n",
       "    <tr>\n",
       "      <th>0</th>\n",
       "      <td>2023-06-23 05:38:00</td>\n",
       "      <td>At Tyler Malek's ice cream parlors, one cook's...</td>\n",
       "      <td>LOS GATOS, Calif. (AP) — At Tyler Malek's ice ...</td>\n",
       "      <td>The US has tons of leftover food. Upcycling se...</td>\n",
       "      <td>https://finance.yahoo.com/news/us-tons-leftove...</td>\n",
       "      <td>[BSAC, FHN, PACW, BSMX, VLY, MBRG, SMMF, GNBC,...</td>\n",
       "    </tr>\n",
       "    <tr>\n",
       "      <th>1</th>\n",
       "      <td>2023-08-26 14:00:17</td>\n",
       "      <td>The worst result, after buying shares in a com...</td>\n",
       "      <td>The worst result, after buying shares in a com...</td>\n",
       "      <td>Baker Hughes (NASDAQ:BKR) shareholders have ea...</td>\n",
       "      <td>https://finance.yahoo.com/news/baker-hughes-na...</td>\n",
       "      <td>[CHU, INSG, S, TDS, DCM, TMUS, CHT, SPOK, VEON...</td>\n",
       "    </tr>\n",
       "    <tr>\n",
       "      <th>2</th>\n",
       "      <td>2023-12-06 16:57:28</td>\n",
       "      <td>(Bloomberg) -- An insolvency filing by Signa H...</td>\n",
       "      <td>(Bloomberg) -- An insolvency filing by Signa H...</td>\n",
       "      <td>Signa’s Insolvency Yields Long List of Credito...</td>\n",
       "      <td>https://finance.yahoo.com/news/signa-insolvenc...</td>\n",
       "      <td>[TXT]</td>\n",
       "    </tr>\n",
       "    <tr>\n",
       "      <th>3</th>\n",
       "      <td>2023-06-14 07:21:56</td>\n",
       "      <td>Swiss citizens vote this weekend on whether to...</td>\n",
       "      <td>By John Revill\\nZURICH (Reuters) - Swiss citiz...</td>\n",
       "      <td>Low-tax Switzerland votes on global minimum co...</td>\n",
       "      <td>https://finance.yahoo.com/news/low-tax-switzer...</td>\n",
       "      <td>[IGLD, RAMP, NSR, TWTR, ACXM, COR, PINS, META,...</td>\n",
       "    </tr>\n",
       "    <tr>\n",
       "      <th>4</th>\n",
       "      <td>2023-01-10 20:23:00</td>\n",
       "      <td>Nationally recognized branding agency HAVEN Cr...</td>\n",
       "      <td>WAXHAW, N.C., Jan. 10, 2023 /PRNewswire/ -- Na...</td>\n",
       "      <td>National Branding Agency HAVEN Creative Looks ...</td>\n",
       "      <td>https://finance.yahoo.com/news/national-brandi...</td>\n",
       "      <td>[FIS, FRXB, AAQC, EEX, AUXO, BBOX, GHY, CTLP, ...</td>\n",
       "    </tr>\n",
       "  </tbody>\n",
       "</table>\n",
       "</div>"
      ],
      "text/plain": [
       "          date_publish                                        description  \\\n",
       "0  2023-06-23 05:38:00  At Tyler Malek's ice cream parlors, one cook's...   \n",
       "1  2023-08-26 14:00:17  The worst result, after buying shares in a com...   \n",
       "2  2023-12-06 16:57:28  (Bloomberg) -- An insolvency filing by Signa H...   \n",
       "3  2023-06-14 07:21:56  Swiss citizens vote this weekend on whether to...   \n",
       "4  2023-01-10 20:23:00  Nationally recognized branding agency HAVEN Cr...   \n",
       "\n",
       "                                            maintext  \\\n",
       "0  LOS GATOS, Calif. (AP) — At Tyler Malek's ice ...   \n",
       "1  The worst result, after buying shares in a com...   \n",
       "2  (Bloomberg) -- An insolvency filing by Signa H...   \n",
       "3  By John Revill\\nZURICH (Reuters) - Swiss citiz...   \n",
       "4  WAXHAW, N.C., Jan. 10, 2023 /PRNewswire/ -- Na...   \n",
       "\n",
       "                                               title  \\\n",
       "0  The US has tons of leftover food. Upcycling se...   \n",
       "1  Baker Hughes (NASDAQ:BKR) shareholders have ea...   \n",
       "2  Signa’s Insolvency Yields Long List of Credito...   \n",
       "3  Low-tax Switzerland votes on global minimum co...   \n",
       "4  National Branding Agency HAVEN Creative Looks ...   \n",
       "\n",
       "                                                 url  \\\n",
       "0  https://finance.yahoo.com/news/us-tons-leftove...   \n",
       "1  https://finance.yahoo.com/news/baker-hughes-na...   \n",
       "2  https://finance.yahoo.com/news/signa-insolvenc...   \n",
       "3  https://finance.yahoo.com/news/low-tax-switzer...   \n",
       "4  https://finance.yahoo.com/news/national-brandi...   \n",
       "\n",
       "                                   related_companies  \n",
       "0  [BSAC, FHN, PACW, BSMX, VLY, MBRG, SMMF, GNBC,...  \n",
       "1  [CHU, INSG, S, TDS, DCM, TMUS, CHT, SPOK, VEON...  \n",
       "2                                              [TXT]  \n",
       "3  [IGLD, RAMP, NSR, TWTR, ACXM, COR, PINS, META,...  \n",
       "4  [FIS, FRXB, AAQC, EEX, AUXO, BBOX, GHY, CTLP, ...  "
      ]
     },
     "execution_count": 5,
     "metadata": {},
     "output_type": "execute_result"
    }
   ],
   "source": [
    "# Keep only relevant columns\n",
    "cols_to_keep = [\"date_publish\", \"description\", \"maintext\", \"title\", \"url\", \"related_companies\"]\n",
    "df = df[cols_to_keep]\n",
    "df.head()"
   ]
  },
  {
   "cell_type": "code",
   "execution_count": null,
   "id": "d7f9ddbb",
   "metadata": {},
   "outputs": [
    {
     "data": {
      "text/plain": [
       "['(Bloomberg) -- UK Prime Minister Rishi Sunak will outline plans to bolster energy security on a visit Monday to Scotland amid growing disagreement over the government’s broader environmental policies.',\n",
       " 'Most Read from Bloomberg',\n",
       " 'Stocks Are Doing So Well That It May Be Time to Start Worrying',\n",
       " 'Burning Ship’s Operator Says Almost 500 EVs Are on Board',\n",
       " 'Bodegas Put on Notice as Visa Fights Back on Card Surcharges',\n",
       " 'Stocks Crush ‘Year of Bond’ in Biggest Sentiment Shift Since ‘99',\n",
       " 'Vanguard’s Economists Aren’t Buying Talk of a Soft Landing: Q&A',\n",
       " 'Sunak will announce measures to help the North Sea oil and gas industry adapt to the transition to net zero greenhouse gas emissions and meet industry leaders in Aberdeenshire, the UK’s drilling hub. The Sunday Times reported that Sunak will unveil multi-million-pound funding for a carbon capture project in Scotland that could help support oil and gas production.',\n",
       " 'Meanwhile, the government made it cheaper for industrial firms to pollute by giving out more emission allowances than expected under its carbon trading program, the Financial Times reported.',\n",
       " 'Energy and climate policies have risen in the political agenda following Russia’s invasion of Ukraine and a cost-of-living crisis that has fueled concerns that the green push has hurt household finances. Critics have warned that the UK has failed to invest enough to beef up energy security as other countries, such as the US, and pump money into green technology.',\n",
       " 'Voters are also divided over recent anti-car policies, one window into diverging opinions about the pace and cost of the UK’s climate polices.',\n",
       " 'The Prime Minister said Sunday that he is on the side of motorists as he ordered a review into a program to reduce traffic in residential areas, helping to improve air quality and encourage more walking and cycling. Critics argue that they create more congestion on other roads.',\n",
       " 'The Guardian reported that ministers are also mulling restrictions on local councils imposing 20 miles-per-hour speed limits for vehicles.',\n",
       " 'Read more: Britain Wobbles on Green Policies That Built Climate Legacy',\n",
       " 'However, Sunak stopped short of delaying the deadline for a 2030 ban on the sale of new petrol and diesel cars despite growing pressure from Conservative backbench MPs.',\n",
       " '“I just want to make sure people know that I’m on their side in supporting them to use their cars to do all the things that matter to them,” Sunak said in an interview with the Sunday Telegraph. “The vast majority of people in the country use their cars to get around and are dependent on their cars. When I’m lucky enough to get home to North Yorkshire it’s more representative of how most of the country is living, where cars are important.”',\n",
       " 'Labour’s shadow climate change and net zero secretary Ed Miliband accused the Tories of waging a “culture war on climate,” saying his party is focused on “lower bills and good jobs.”',\n",
       " '“Every family and business is paying the price, in higher energy bills, of 13 years of failed Tory energy policy,” he said on Sunday. “It is absurd that having left this country so exposed, the Conservative Party is asking the public to believe they can fix it.”',\n",
       " 'Earlier this month the Tories narrowly held onto the seat of Uxbridge and South Ruislip in outer London in a special election after a backlash over the expansion of the Ultra Low Emission Zone (Ulez), which charges motorists £12.50 ($16.08) per day for using vehicles that don’t meet low emissions standards.',\n",
       " 'Climate policies and concerns over their costs could become a dividing line in a general election, which is expected next year.',\n",
       " 'New Licenses',\n",
       " 'Labour currently has a large lead in polls over the Conservatives, while voters have signaled their opposition to some green policies. Polling by YouGov suggests that more than half of voters would oppose the introduction of Ulez in their area.',\n",
       " 'Sunak will confirm on his visit to Scotland that the government will press ahead with granting 100 new oil and gas licenses to boost North Sea production, according to a report by the Times.',\n",
       " 'Energy Minister Martin Callanan had earlier suggested that the UK could allow more oil and gas exploration in the North Sea as the government attempts to bolster energy security.',\n",
       " '“If we can get the resources that we would otherwise be importing from our own supplies in the North Sea that employs British people, that raises money for the UK exchequer and is actually less carbon intensive than importing that through methods like liquid natural gas,” he said in an interview with Times Radio on Sunday.',\n",
       " '(Adds detail on possible restrictions in seventh paragraph, new licenses under subhead)',\n",
       " 'Most Read from Bloomberg Businessweek',\n",
       " 'Influencers Built Up This Wellness Startup—Until They Started Getting Sick',\n",
       " 'AI in Hollywood Has Gone From Contract Sticking Point to Existential Crisis',\n",
       " 'The Stainless-Steel Boom Is Tearing a South African Mining Region Apart',\n",
       " 'Property Owners Ignore Climate Risk Amid Insurance Meltdown',\n",
       " 'Frequent-Flyer Miles Are Hotter Than Cash This Summer',\n",
       " '©2023 Bloomberg L.P.']"
      ]
     },
     "execution_count": 6,
     "metadata": {},
     "output_type": "execute_result"
    },
    {
     "ename": "",
     "evalue": "",
     "output_type": "error",
     "traceback": [
      "\u001b[1;31mThe Kernel crashed while executing code in the current cell or a previous cell. \n",
      "\u001b[1;31mPlease review the code in the cell(s) to identify a possible cause of the failure. \n",
      "\u001b[1;31mClick <a href='https://aka.ms/vscodeJupyterKernelCrash'>here</a> for more info. \n",
      "\u001b[1;31mView Jupyter <a href='command:jupyter.viewOutput'>log</a> for further details."
     ]
    }
   ],
   "source": [
    "# See sample of an article\n",
    "df[\"maintext\"].sample(1).values[0].split(\"\\n\")"
   ]
  },
  {
   "cell_type": "markdown",
   "id": "ce9c467a",
   "metadata": {},
   "source": [
    "## Generation of a summary\n",
    "Financial news articles are often lengthy and dense with information. When dealing with large volumes of content, it's critical to quickly assess which articles are worth a deeper read. Summaries serve this exact purpose: they allow readers to grasp the core message of an article in seconds.\n",
    "\n",
    "To address this, we generate concise, high-quality summaries using Generative AI. Specifically, we leverage OpenAI’s gpt-4.1-nano model (initialized earlier) to produce abstractive summaries that capture the main events and insights from each article.\n",
    "\n",
    "This not only improves readability but also lays the foundation for downstream tasks like semantic search and topic clustering."
   ]
  },
  {
   "cell_type": "code",
   "execution_count": null,
   "id": "094c9ab6",
   "metadata": {},
   "outputs": [],
   "source": [
    "# Showing the histogram of how many worlds are in an article\n",
    "fig = px.histogram(x=df.maintext.map(lambda x: len(x.split())), nbins=100)\n",
    "fig.show()"
   ]
  },
  {
   "cell_type": "markdown",
   "id": "37140086",
   "metadata": {},
   "source": [
    "Most of the articles are between 400-600 words, usually a good summary is between 150 to 200 words.\n",
    "\n",
    "Let's create a prompt template using langchain to create the summary."
   ]
  },
  {
   "cell_type": "code",
   "execution_count": null,
   "id": "bccb4f18",
   "metadata": {},
   "outputs": [],
   "source": [
    "prompt_template = PromptTemplate.from_template(\"\"\"\n",
    "As a professional summarizer for a financial newspaper, create a concise and comprehensive summary of the provided article while adhering to these guidelines:\n",
    "\n",
    "Craft a summary that is detailed, thorough, in-depth, and complex, while maintaining clarity and conciseness.\n",
    "\n",
    "Incorporate main ideas and essential information, eliminating extraneous language and focusing on critical aspects.\n",
    "\n",
    "Rely strictly on the provided text, without including external information.\n",
    "\n",
    "Format the summary in paragraph form for easy understanding.\n",
    "                                               \n",
    "You are creating the summary to be put in the frontpage of the newspaper, so be catchy and critical.\n",
    "\n",
    "Use from 150 to 200 words.                                                                                         \n",
    "\n",
    "By following this optimized prompt, you will generate an effective summary that encapsulates the essence of the given article in a clear, concise, and reader-friendly manner.\n",
    "\n",
    "Article: {Article}\n",
    "\"\"\")"
   ]
  },
  {
   "cell_type": "markdown",
   "id": "61e7f07e",
   "metadata": {},
   "source": [
    "Let’s define an asynchronous function to generate summaries. Using asyncio allows us to speed up multiple API calls in parallel — especially useful when processing hundreds or thousands of articles."
   ]
  },
  {
   "cell_type": "code",
   "execution_count": null,
   "id": "dafdf01b",
   "metadata": {},
   "outputs": [],
   "source": [
    "async def process_single_article(article_text, prompt_template):\n",
    "    \"\"\"Process a single article asynchronously\"\"\"\n",
    "    if article_text in cache:\n",
    "        return cache[article_text]\n",
    "    try:\n",
    "        formatted_prompt = prompt_template.format(Article=article_text)\n",
    "        response = await llm.ainvoke(formatted_prompt)\n",
    "        summary = response.content\n",
    "        cache[article_text] = summary\n",
    "        with open(cache_file, 'w') as f:\n",
    "            json.dump(cache, f)\n",
    "        return summary\n",
    "    except Exception as e:\n",
    "        print(f\"Error processing article: {e}\")\n",
    "        return None\n",
    "\n",
    "async def process_articles_batch(df, prompt_template, batch_size=5):\n",
    "    \"\"\"Process articles in batches to avoid rate limits\"\"\"\n",
    "    results = []\n",
    "    \n",
    "    for i in range(0, len(df), batch_size):\n",
    "        batch = df.iloc[i:i+batch_size]\n",
    "        \n",
    "        # Create tasks for the batch\n",
    "        tasks = [\n",
    "            process_single_article(row[\"maintext\"], prompt_template) \n",
    "            for _, row in batch.iterrows()\n",
    "        ]\n",
    "        \n",
    "        # Process batch concurrently\n",
    "        batch_results = await asyncio.gather(*tasks, return_exceptions=True)\n",
    "        results.extend(batch_results)\n",
    "        \n",
    "        # Optional: Add delay between batches to respect rate limits\n",
    "        if i + batch_size < len(df):\n",
    "            await asyncio.sleep(1)  # 1 second delay between batches\n",
    "    \n",
    "    return results"
   ]
  },
  {
   "cell_type": "code",
   "execution_count": null,
   "id": "4de79063",
   "metadata": {},
   "outputs": [],
   "source": [
    "# I create the summary of the first 100 articles\n",
    "res = await process_articles_batch(df.iloc[:100, :], prompt_template)"
   ]
  },
  {
   "cell_type": "code",
   "execution_count": null,
   "id": "ffb0daf6",
   "metadata": {},
   "outputs": [
    {
     "data": {
      "text/plain": [
       "'Amid rising awareness of food waste’s environmental and economic toll, the upcycling movement is gaining momentum across the food industry, exemplified by Salt & Straw’s innovative ice cream flavors crafted from leftover ingredients. Portland-based Malek’s chain champions the reuse of whey, rice remnants, and cacao pulp, transforming waste into gourmet products while advocating for a shift from “food waste” to “wasted food.” This trend aligns with consumer demand for transparency and sustainability, as over 35 million tons of food are wasted annually in the U.S., costing the economy over $200 billion. The Upcycled Food Association’s “Upcycling Certified” seal now adorns hundreds of products, from bakery mixes to veggie chips, highlighting ingredients like misshapen produce and byproducts from plant-based milk, such as okara flour used in Salt & Straw’s cupcakes. Beyond retail, innovative restaurants like San Francisco’s Shuggie’s Trash Pie utilize imperfect produce and offcuts, challenging perceptions of quality and reducing waste at the source. As the movement expands, it underscores a critical shift toward a more sustainable, resource-efficient food system, driven by consumer awareness and industry innovation.'"
      ]
     },
     "execution_count": 13,
     "metadata": {},
     "output_type": "execute_result"
    }
   ],
   "source": [
    "res[0]"
   ]
  },
  {
   "cell_type": "code",
   "execution_count": null,
   "id": "69b3b1a9",
   "metadata": {},
   "outputs": [
    {
     "ename": "NameError",
     "evalue": "name 'res' is not defined",
     "output_type": "error",
     "traceback": [
      "\u001b[31m---------------------------------------------------------------------------\u001b[39m",
      "\u001b[31mNameError\u001b[39m                                 Traceback (most recent call last)",
      "\u001b[36mCell\u001b[39m\u001b[36m \u001b[39m\u001b[32mIn[1]\u001b[39m\u001b[32m, line 1\u001b[39m\n\u001b[32m----> \u001b[39m\u001b[32m1\u001b[39m \u001b[43mres\u001b[49m[\u001b[32m1\u001b[39m]\n",
      "\u001b[31mNameError\u001b[39m: name 'res' is not defined"
     ]
    }
   ],
   "source": [
    "res[1]"
   ]
  },
  {
   "cell_type": "code",
   "execution_count": null,
   "id": "43f0091e",
   "metadata": {},
   "outputs": [],
   "source": []
  }
 ],
 "metadata": {
  "kernelspec": {
   "display_name": ".venv",
   "language": "python",
   "name": "python3"
  },
  "language_info": {
   "codemirror_mode": {
    "name": "ipython",
    "version": 3
   },
   "file_extension": ".py",
   "mimetype": "text/x-python",
   "name": "python",
   "nbconvert_exporter": "python",
   "pygments_lexer": "ipython3",
   "version": "3.13.3"
  }
 },
 "nbformat": 4,
 "nbformat_minor": 5
}
